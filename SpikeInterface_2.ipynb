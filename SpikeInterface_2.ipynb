{
 "cells": [
  {
   "cell_type": "code",
   "execution_count": 1,
   "metadata": {},
   "outputs": [],
   "source": [
    "import numpy as np\n",
    "import pandas as pd\n",
    "import sys,os\n",
    "import pylab\n",
    "from scipy import stats,signal,io\n",
    "import matplotlib.pyplot as plt\n",
    "from sklearn import linear_model\n",
    "import pickle\n",
    "import seaborn as sns\n",
    "sns.set_style('white')\n",
    "sns.set_style('ticks')\n",
    "import h5py\n",
    "import matplotlib.gridspec as gridspec\n",
    "plt.rcParams['pdf.fonttype'] = 'truetype'\n",
    "from sklearn.linear_model import LogisticRegression,SGDClassifier\n",
    "from sklearn.model_selection import GridSearchCV\n",
    "from sklearn import metrics\n",
    "from functools import reduce\n",
    "import datetime\n",
    "\n",
    "import spikeinterface as si\n",
    "import spikeinterface.extractors as se\n",
    "import spikeinterface.toolkit as st\n",
    "import spikeinterface.sorters as ss\n",
    "import spikeinterface.comparison as sc\n",
    "import spikeinterface.widgets as sw\n",
    "\n"
   ]
  },
  {
   "cell_type": "code",
   "execution_count": 2,
   "metadata": {},
   "outputs": [],
   "source": [
    "base_path = '/n/groups/datta/guitchounts/data/gmou03/2020-07-30_11-02-59/'"
   ]
  },
  {
   "cell_type": "code",
   "execution_count": 3,
   "metadata": {},
   "outputs": [
    {
     "name": "stdout",
     "output_type": "stream",
     "text": [
      "Loading Open-Ephys: reading settings.xml...\n",
      "Decoding data from  binary  format\n",
      ".dat:  continuous.dat\n",
      "Estimated samples:  108259200  Numchan:  32\n"
     ]
    }
   ],
   "source": [
    "data = se.OpenEphysRecordingExtractor(base_path)\n",
    "\n",
    "recording = data.load_probe_file(probe_file='%s/../../32_groups.prb' % base_path)"
   ]
  },
  {
   "cell_type": "code",
   "execution_count": 4,
   "metadata": {},
   "outputs": [
    {
     "name": "stdout",
     "output_type": "stream",
     "text": [
      "Channel ids: [0, 1, 2, 3, 4, 5, 6, 7, 8, 9, 10, 11, 12, 13, 14, 15, 16, 17, 18, 19, 20, 21, 22, 23, 24, 25, 26, 27, 28, 29, 30, 31]\n",
      "Loaded properties ['group', 'label', 'location']\n",
      "Label of channel 0: t_0\n"
     ]
    }
   ],
   "source": [
    "print('Channel ids:', recording.get_channel_ids())\n",
    "print('Loaded properties', recording.get_shared_channel_property_names())\n",
    "print('Label of channel 0:', recording.get_channel_property(channel_id=0, property_name='label'))\n",
    "\n",
    "\n",
    "recording_f = st.preprocessing.bandpass_filter(recording, freq_min=300, freq_max=6000)\n",
    "recording_cmr = st.preprocessing.common_reference(recording_f, reference='median')\n",
    "\n",
    "\n",
    "num_workers = 20\n"
   ]
  },
  {
   "cell_type": "code",
   "execution_count": 5,
   "metadata": {},
   "outputs": [],
   "source": [
    "default_ms4_params = ss.Mountainsort4Sorter.default_params()\n",
    "#print(default_ms4_params)\n",
    "ms4_params = default_ms4_params.copy()\n",
    "ms4_params['adjacency_radius'] = 0\n",
    "ms4_params['detect_sign'] = 0\n",
    "ms4_params['filter'] = False\n",
    "ms4_params['num_workers'] = num_workers\n",
    "fs = 3e4\n",
    "\n",
    "\n",
    "\n",
    "\n",
    "default_kl_params = ss.KlustaSorter.default_params()\n",
    "#print(default_kl_params)\n",
    "kl_params = default_kl_params.copy()\n",
    "kl_params['adjacency_radius'] = 0\n",
    "kl_params['extract_s_before'] = 32\n",
    "kl_params['detect_sign'] = 0\n",
    "#kl_params['filter'] = False\n",
    "#kl_params['num_workers'] = num_workers\n",
    "\n"
   ]
  },
  {
   "cell_type": "code",
   "execution_count": 6,
   "metadata": {},
   "outputs": [],
   "source": [
    "import time"
   ]
  },
  {
   "cell_type": "code",
   "execution_count": null,
   "metadata": {},
   "outputs": [
    {
     "name": "stdout",
     "output_type": "stream",
     "text": [
      "Starting mountainsort4 sorting....\n",
      "'end_time' set to 108259200\n"
     ]
    }
   ],
   "source": [
    "print('Starting mountainsort4 sorting....')\n",
    "\n",
    "# run KlustaKwik:\n",
    "\n",
    "start = time.time()\n",
    "\n",
    "\n",
    "\n",
    "# run Mountainsort:\n",
    "sorting_MS4 = ss.run_sorter('mountainsort4',recording_cmr, #grouping_property='group',\n",
    "                       parallel=True,\n",
    "                       output_folder='%s/tmp_MS4' % base_path, **ms4_params)\n",
    "\n",
    "print('sorting finished in ',time.time() - start )\n",
    "\n",
    "\n",
    "sorting_MS4 = st.curation.threshold_firing_rates(sorting_MS4, \n",
    "    duration_in_frames=recording_cmr.get_num_frames(), threshold=0.05, threshold_sign='less')\n",
    "\n",
    "sorting_MS4 = st.curation.threshold_snrs(sorting_MS4, recording_cmr, threshold=5, threshold_sign='less')\n",
    "\n",
    "st.postprocessing.export_to_phy(recording_cmr, sorting_MS4, output_folder='%s/phy_MS4' % base_path, grouping_property='group')\n",
    "\n",
    "\n",
    "\n",
    "end = time.time()\n",
    "print(end - start)\n",
    "\n",
    "### started at 2:16 pm"
   ]
  },
  {
   "cell_type": "code",
   "execution_count": null,
   "metadata": {},
   "outputs": [],
   "source": []
  }
 ],
 "metadata": {
  "kernelspec": {
   "display_name": "Python 3",
   "language": "python",
   "name": "python3"
  },
  "language_info": {
   "codemirror_mode": {
    "name": "ipython",
    "version": 3
   },
   "file_extension": ".py",
   "mimetype": "text/x-python",
   "name": "python",
   "nbconvert_exporter": "python",
   "pygments_lexer": "ipython3",
   "version": "3.6.10"
  }
 },
 "nbformat": 4,
 "nbformat_minor": 4
}
